{
 "cells": [
  {
   "cell_type": "code",
   "execution_count": 13,
   "metadata": {},
   "outputs": [
    {
     "data": {
      "text/html": [
       "<div>\n",
       "<style scoped>\n",
       "    .dataframe tbody tr th:only-of-type {\n",
       "        vertical-align: middle;\n",
       "    }\n",
       "\n",
       "    .dataframe tbody tr th {\n",
       "        vertical-align: top;\n",
       "    }\n",
       "\n",
       "    .dataframe thead th {\n",
       "        text-align: right;\n",
       "    }\n",
       "</style>\n",
       "<table border=\"1\" class=\"dataframe\">\n",
       "  <thead>\n",
       "    <tr style=\"text-align: right;\">\n",
       "      <th></th>\n",
       "      <th>Sno</th>\n",
       "      <th>Location</th>\n",
       "      <th>Browser</th>\n",
       "      <th>status</th>\n",
       "      <th>address</th>\n",
       "      <th>state</th>\n",
       "      <th>language</th>\n",
       "    </tr>\n",
       "  </thead>\n",
       "  <tbody>\n",
       "    <tr>\n",
       "      <th>0</th>\n",
       "      <td>0</td>\n",
       "      <td>Chennai</td>\n",
       "      <td>Safari</td>\n",
       "      <td>keep-alive</td>\n",
       "      <td>http://192.168.0.101:8000</td>\n",
       "      <td>gzip, deflate</td>\n",
       "      <td>en-GB,en-US;q=0.9,en;q=0.8</td>\n",
       "    </tr>\n",
       "    <tr>\n",
       "      <th>1</th>\n",
       "      <td>1</td>\n",
       "      <td>Coimbatore</td>\n",
       "      <td>Safari</td>\n",
       "      <td>keep-alive</td>\n",
       "      <td>http://192.168.0.101:8000</td>\n",
       "      <td>gzip, deflate</td>\n",
       "      <td>en-GB,en-US;q=0.9,en;q=0.8</td>\n",
       "    </tr>\n",
       "    <tr>\n",
       "      <th>2</th>\n",
       "      <td>2</td>\n",
       "      <td>Mumbai</td>\n",
       "      <td>Chrome</td>\n",
       "      <td>keep-alive</td>\n",
       "      <td>http://192.168.0.101:8000</td>\n",
       "      <td>gzip, deflate</td>\n",
       "      <td>en-GB,en-US;q=0.9,en;q=0.8</td>\n",
       "    </tr>\n",
       "    <tr>\n",
       "      <th>3</th>\n",
       "      <td>3</td>\n",
       "      <td>Bangalore</td>\n",
       "      <td>Firefox</td>\n",
       "      <td>keep-alive</td>\n",
       "      <td>http://192.168.0.101:8000</td>\n",
       "      <td>gzip, deflate</td>\n",
       "      <td>en-GB,en-US;q=0.9,en;q=0.8</td>\n",
       "    </tr>\n",
       "    <tr>\n",
       "      <th>4</th>\n",
       "      <td>4</td>\n",
       "      <td>Salem</td>\n",
       "      <td>Chrome</td>\n",
       "      <td>keep-alive</td>\n",
       "      <td>http://192.168.0.101:8000</td>\n",
       "      <td>gzip, deflate</td>\n",
       "      <td>en-GB,en-US;q=0.9,en;q=0.8</td>\n",
       "    </tr>\n",
       "    <tr>\n",
       "      <th>5</th>\n",
       "      <td>5</td>\n",
       "      <td>Madurai</td>\n",
       "      <td>Internet Explorer</td>\n",
       "      <td>keep-alive</td>\n",
       "      <td>http://192.168.0.101:8000</td>\n",
       "      <td>gzip, deflate</td>\n",
       "      <td>en-GB,en-US;q=0.9,en;q=0.8</td>\n",
       "    </tr>\n",
       "    <tr>\n",
       "      <th>6</th>\n",
       "      <td>6</td>\n",
       "      <td>Mumbai</td>\n",
       "      <td>Chrome</td>\n",
       "      <td>keep-alive</td>\n",
       "      <td>http://192.168.0.101:8000</td>\n",
       "      <td>gzip, deflate</td>\n",
       "      <td>en-GB,en-US;q=0.9,en;q=0.8</td>\n",
       "    </tr>\n",
       "    <tr>\n",
       "      <th>7</th>\n",
       "      <td>7</td>\n",
       "      <td>Mumbai</td>\n",
       "      <td>Firefox</td>\n",
       "      <td>keep-alive</td>\n",
       "      <td>http://192.168.0.101:8000</td>\n",
       "      <td>gzip, deflate</td>\n",
       "      <td>en-GB,en-US;q=0.9,en;q=0.8</td>\n",
       "    </tr>\n",
       "    <tr>\n",
       "      <th>8</th>\n",
       "      <td>8</td>\n",
       "      <td>Coimbatore</td>\n",
       "      <td>Firefox</td>\n",
       "      <td>keep-alive</td>\n",
       "      <td>http://192.168.0.101:8000</td>\n",
       "      <td>gzip, deflate</td>\n",
       "      <td>en-GB,en-US;q=0.9,en;q=0.8</td>\n",
       "    </tr>\n",
       "    <tr>\n",
       "      <th>9</th>\n",
       "      <td>9</td>\n",
       "      <td>Chennai</td>\n",
       "      <td>Safari</td>\n",
       "      <td>keep-alive</td>\n",
       "      <td>http://192.168.0.101:8000</td>\n",
       "      <td>gzip, deflate</td>\n",
       "      <td>en-GB,en-US;q=0.9,en;q=0.8</td>\n",
       "    </tr>\n",
       "  </tbody>\n",
       "</table>\n",
       "</div>"
      ],
      "text/plain": [
       "   Sno    Location            Browser      status                    address  \\\n",
       "0    0     Chennai             Safari  keep-alive  http://192.168.0.101:8000   \n",
       "1    1  Coimbatore             Safari  keep-alive  http://192.168.0.101:8000   \n",
       "2    2      Mumbai             Chrome  keep-alive  http://192.168.0.101:8000   \n",
       "3    3   Bangalore            Firefox  keep-alive  http://192.168.0.101:8000   \n",
       "4    4       Salem             Chrome  keep-alive  http://192.168.0.101:8000   \n",
       "5    5     Madurai  Internet Explorer  keep-alive  http://192.168.0.101:8000   \n",
       "6    6      Mumbai             Chrome  keep-alive  http://192.168.0.101:8000   \n",
       "7    7      Mumbai            Firefox  keep-alive  http://192.168.0.101:8000   \n",
       "8    8  Coimbatore            Firefox  keep-alive  http://192.168.0.101:8000   \n",
       "9    9     Chennai             Safari  keep-alive  http://192.168.0.101:8000   \n",
       "\n",
       "           state                    language  \n",
       "0  gzip, deflate  en-GB,en-US;q=0.9,en;q=0.8  \n",
       "1  gzip, deflate  en-GB,en-US;q=0.9,en;q=0.8  \n",
       "2  gzip, deflate  en-GB,en-US;q=0.9,en;q=0.8  \n",
       "3  gzip, deflate  en-GB,en-US;q=0.9,en;q=0.8  \n",
       "4  gzip, deflate  en-GB,en-US;q=0.9,en;q=0.8  \n",
       "5  gzip, deflate  en-GB,en-US;q=0.9,en;q=0.8  \n",
       "6  gzip, deflate  en-GB,en-US;q=0.9,en;q=0.8  \n",
       "7  gzip, deflate  en-GB,en-US;q=0.9,en;q=0.8  \n",
       "8  gzip, deflate  en-GB,en-US;q=0.9,en;q=0.8  \n",
       "9  gzip, deflate  en-GB,en-US;q=0.9,en;q=0.8  "
      ]
     },
     "execution_count": 13,
     "metadata": {},
     "output_type": "execute_result"
    }
   ],
   "source": [
    "import numpy as np\n",
    "import pandas as pd\n",
    "from sklearn import linear_model\n",
    "df=pd.read_csv(\"/home/flockwits/Downloads/Sample_Dataset.csv\")\n",
    "df"
   ]
  },
  {
   "cell_type": "code",
   "execution_count": 15,
   "metadata": {},
   "outputs": [
    {
     "name": "stdout",
     "output_type": "stream",
     "text": [
      "keys:Index(['Sno', 'Location', 'Browser', 'status', 'address', 'state', 'language'], dtype='object')\n"
     ]
    }
   ],
   "source": [
    "print(\"keys:{}\".format(df.keys()))"
   ]
  },
  {
   "cell_type": "code",
   "execution_count": 20,
   "metadata": {},
   "outputs": [
    {
     "name": "stdout",
     "output_type": "stream",
     "text": [
      "target name:\n",
      "0    http://192.168.0.101:8000\n",
      "1    http://192.168.0.101:8000\n",
      "2    http://192.168.0.101:8000\n",
      "3    http://192.168.0.101:8000\n",
      "4    http://192.168.0.101:8000\n",
      "5    http://192.168.0.101:8000\n",
      "6    http://192.168.0.101:8000\n",
      "7    http://192.168.0.101:8000\n",
      "8    http://192.168.0.101:8000\n",
      "9    http://192.168.0.101:8000\n",
      "Name: address, dtype: object\n"
     ]
    }
   ],
   "source": [
    "print(\"target name:\\n{}\".format(df['address']))"
   ]
  },
  {
   "cell_type": "code",
   "execution_count": 26,
   "metadata": {},
   "outputs": [
    {
     "name": "stdout",
     "output_type": "stream",
     "text": [
      "shape of data:\n",
      "(10, 7)\n"
     ]
    }
   ],
   "source": [
    "print(\"shape of data:\\n{}\".format(df.shape))"
   ]
  },
  {
   "cell_type": "code",
   "execution_count": 28,
   "metadata": {},
   "outputs": [
    {
     "name": "stdout",
     "output_type": "stream",
     "text": [
      "5 row:\n",
      "   Sno    Location  Browser      status                    address  \\\n",
      "0    0     Chennai   Safari  keep-alive  http://192.168.0.101:8000   \n",
      "1    1  Coimbatore   Safari  keep-alive  http://192.168.0.101:8000   \n",
      "2    2      Mumbai   Chrome  keep-alive  http://192.168.0.101:8000   \n",
      "3    3   Bangalore  Firefox  keep-alive  http://192.168.0.101:8000   \n",
      "4    4       Salem   Chrome  keep-alive  http://192.168.0.101:8000   \n",
      "\n",
      "           state                    language  \n",
      "0  gzip, deflate  en-GB,en-US;q=0.9,en;q=0.8  \n",
      "1  gzip, deflate  en-GB,en-US;q=0.9,en;q=0.8  \n",
      "2  gzip, deflate  en-GB,en-US;q=0.9,en;q=0.8  \n",
      "3  gzip, deflate  en-GB,en-US;q=0.9,en;q=0.8  \n",
      "4  gzip, deflate  en-GB,en-US;q=0.9,en;q=0.8  \n"
     ]
    }
   ],
   "source": [
    "print(\"5 row:\\n{}\".format(df[:5]))"
   ]
  },
  {
   "cell_type": "code",
   "execution_count": 31,
   "metadata": {},
   "outputs": [],
   "source": [
    "from sklearn.model_selection import train_test_split\n",
    "x_train,x_test,y_train,y_test=train_test_split(df['Location'],df['address'],random_state=0)"
   ]
  },
  {
   "cell_type": "code",
   "execution_count": 33,
   "metadata": {},
   "outputs": [
    {
     "name": "stdout",
     "output_type": "stream",
     "text": [
      "x train:\n",
      "(7,)\n"
     ]
    }
   ],
   "source": [
    "print(\"x train:\\n{}\".format(x_train.shape))"
   ]
  },
  {
   "cell_type": "code",
   "execution_count": 34,
   "metadata": {},
   "outputs": [
    {
     "name": "stdout",
     "output_type": "stream",
     "text": [
      "y train:\n",
      "(7,)\n"
     ]
    }
   ],
   "source": [
    "print(\"y train:\\n{}\".format(y_train.shape))"
   ]
  },
  {
   "cell_type": "code",
   "execution_count": 36,
   "metadata": {},
   "outputs": [
    {
     "name": "stdout",
     "output_type": "stream",
     "text": [
      "x test:\n",
      "(3,)\n"
     ]
    }
   ],
   "source": [
    "print(\"x test:\\n{}\".format(x_test.shape))"
   ]
  },
  {
   "cell_type": "code",
   "execution_count": null,
   "metadata": {},
   "outputs": [],
   "source": [
    "print"
   ]
  }
 ],
 "metadata": {
  "kernelspec": {
   "display_name": "Python 3",
   "language": "python",
   "name": "python3"
  },
  "language_info": {
   "codemirror_mode": {
    "name": "ipython",
    "version": 3
   },
   "file_extension": ".py",
   "mimetype": "text/x-python",
   "name": "python",
   "nbconvert_exporter": "python",
   "pygments_lexer": "ipython3",
   "version": "3.6.7"
  }
 },
 "nbformat": 4,
 "nbformat_minor": 2
}
